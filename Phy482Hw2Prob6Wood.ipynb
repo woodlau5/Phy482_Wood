{
 "cells": [
  {
   "cell_type": "markdown",
   "metadata": {},
   "source": [
    "# Computing Electric Field Along the Axis of a Charged Ring With a Computer"
   ]
  },
  {
   "cell_type": "markdown",
   "metadata": {},
   "source": [
    "This program computes the net electric field due to a uniformly charged ring of radius $R$ and charge $Q$ at a given point in space."
   ]
  },
  {
   "cell_type": "code",
   "execution_count": 1,
   "metadata": {},
   "outputs": [
    {
     "data": {
      "application/javascript": [
       "require.undef(\"nbextensions/vpython_libraries/glow.min\");"
      ],
      "text/plain": [
       "<IPython.core.display.Javascript object>"
      ]
     },
     "metadata": {},
     "output_type": "display_data"
    },
    {
     "data": {
      "application/javascript": [
       "require.undef(\"nbextensions/vpython_libraries/glowcomm\");"
      ],
      "text/plain": [
       "<IPython.core.display.Javascript object>"
      ]
     },
     "metadata": {},
     "output_type": "display_data"
    },
    {
     "data": {
      "application/javascript": [
       "require.undef(\"nbextensions/vpython_libraries/jquery-ui.custom.min\");"
      ],
      "text/plain": [
       "<IPython.core.display.Javascript object>"
      ]
     },
     "metadata": {},
     "output_type": "display_data"
    },
    {
     "data": {
      "application/javascript": [
       "require([\"nbextensions/vpython_libraries/glow.min\"], function(){console.log(\"GLOW LOADED\");})"
      ],
      "text/plain": [
       "<IPython.core.display.Javascript object>"
      ]
     },
     "metadata": {},
     "output_type": "display_data"
    },
    {
     "data": {
      "application/javascript": [
       "require([\"nbextensions/vpython_libraries/glowcomm\"], function(){console.log(\"GLOWCOMM LOADED\");})"
      ],
      "text/plain": [
       "<IPython.core.display.Javascript object>"
      ]
     },
     "metadata": {},
     "output_type": "display_data"
    },
    {
     "data": {
      "application/javascript": [
       "require([\"nbextensions/vpython_libraries/jquery-ui.custom.min\"], function(){console.log(\"JQUERY LOADED\");})"
      ],
      "text/plain": [
       "<IPython.core.display.Javascript object>"
      ]
     },
     "metadata": {},
     "output_type": "display_data"
    },
    {
     "data": {
      "text/html": [
       "<div id=\"glowscript\" class=\"glowscript\"></div>"
      ],
      "text/plain": [
       "<IPython.core.display.HTML object>"
      ]
     },
     "metadata": {},
     "output_type": "display_data"
    },
    {
     "data": {
      "application/javascript": [
       "window.__context = { glowscript_container: $(\"#glowscript\").removeAttr(\"id\")}"
      ],
      "text/plain": [
       "<IPython.core.display.Javascript object>"
      ]
     },
     "metadata": {},
     "output_type": "display_data"
    }
   ],
   "source": [
    "from __future__ import division, print_function\n",
    "from vpython import *\n",
    "from math import *"
   ]
  },
  {
   "cell_type": "code",
   "execution_count": 2,
   "metadata": {},
   "outputs": [
    {
     "data": {
      "text/html": [
       "<div id=\"glowscript\" class=\"glowscript\"></div>"
      ],
      "text/plain": [
       "<IPython.core.display.HTML object>"
      ]
     },
     "metadata": {},
     "output_type": "display_data"
    },
    {
     "data": {
      "application/javascript": [
       "window.__context = { glowscript_container: $(\"#glowscript\").removeAttr(\"id\")}"
      ],
      "text/plain": [
       "<IPython.core.display.Javascript object>"
      ]
     },
     "metadata": {},
     "output_type": "display_data"
    },
    {
     "name": "stdout",
     "output_type": "stream",
     "text": [
      "The net electric field at  <0, 0.01, 0> =  <3936.48, -7576.91, 0> N/C\n",
      "The net electric field at  <0.00866025, -0.005, 0> =  <-8867.63, 7582.05, 0> N/C\n",
      "The net electric field at  <-0.00866025, -0.005, 0> =  <4577.03, 535.732, 0> N/C\n",
      "The net electric field at  <-1.22465e-18, 0.005, 0> =  <222.772, -3023.69, 0> N/C\n",
      "The net electric field at  <0.00433013, -0.0025, 0> =  <-2732.29, 1706.42, 0> N/C\n",
      "The net electric field at  <-0.00433013, -0.0025, 0> =  <2505.45, 1318.21, 0> N/C\n"
     ]
    }
   ],
   "source": [
    "scene=canvas(title=\"Electric field due to uniformly charged ring at various points\")\n",
    "scene.background=color.white\n",
    "\n",
    "R=0.02 #radius of ring in m\n",
    "Q=1e-9 #charge of ring in C\n",
    "N=5 #number of unique pieces\n",
    "npoints = 3\n",
    "\n",
    "#draw the objects\n",
    "myring=ring(pos=vector(0,0,0), radius=R, axis=vector(0,0,1), color=color.blue, thickness=0.02*R)\n",
    "zaxis=cylinder(pos=-2*R*myring.axis, radius=0.015*R, axis=4*R*myring.axis, color=color.black)\n",
    "points = []\n",
    "for i in range(npoints):\n",
    "    \n",
    "    xr = 0.01*sin(i*2*pi/npoints)\n",
    "    yr = 0.01*cos(i*2*pi/npoints)\n",
    "    \n",
    "    points.append(sphere(pos=vector(xr,yr,0), color=color.red, radius=5*zaxis.radius))\n",
    "    \n",
    "for j in range(npoints,2*npoints):\n",
    "    \n",
    "    xr2 = 0.005*sin(j*2*pi/npoints)\n",
    "    yr2 = 0.005*cos(j*2*pi/npoints)\n",
    "    \n",
    "    points.append(sphere(pos=vector(xr2,yr2,0), color=color.red, radius=5*zaxis.radius))\n",
    "\n",
    "# Find net field\n",
    "for a in points:\n",
    "\n",
    "    oofpez=9e9 #1/(4pi epsilon_0) in N m^2/C^2\n",
    "    dq=Q/N #charge of a piece\n",
    "    dtheta=2*pi/N #theta increment for our loop\n",
    "    theta=dtheta/2 #initial theta for first piece of loop\n",
    "    Enet=vector(0,0,0) #net electric field of all pieces\n",
    "\n",
    "    rpoint = a.pos\n",
    "\n",
    "    scale=1.2*mag(rpoint)/8000 #used to scale the arrows representing E-field\n",
    "\n",
    "    while theta<2*pi:\n",
    "        rpiece = R*vector(cos(theta),sin(theta),0) #location of piece\n",
    "        r = rpoint-rpiece #vector from piece to point in space\n",
    "        rmag = mag(r) #magnitude of r\n",
    "        rhat = norm(r) #unit vector for r\n",
    "        dE = oofpez * dq / rmag / rmag * rhat #Electric field due to piece at rpoint\n",
    "        Enet = Enet + dE\n",
    "        particle=sphere(pos=rpiece, radius=a.radius, color=color.yellow) #draw a particle\n",
    "        dEvector=arrow(pos=rpoint, axis=scale*dE, color=color.magenta, shaftwidth=a.radius/2)\n",
    "        theta=theta+dtheta\n",
    "\n",
    "    print(\"The net electric field at \", rpoint, \"= \",Enet, \"N/C\")\n",
    "    Evector=arrow(pos=rpoint, axis=scale*Enet, color=color.orange, shaftwidth=a.radius/2)"
   ]
  },
  {
   "cell_type": "code",
   "execution_count": 4,
   "metadata": {},
   "outputs": [
    {
     "data": {
      "text/html": [
       "<div id=\"glowscript\" class=\"glowscript\"></div>"
      ],
      "text/plain": [
       "<IPython.core.display.HTML object>"
      ]
     },
     "metadata": {},
     "output_type": "display_data"
    },
    {
     "data": {
      "application/javascript": [
       "window.__context = { glowscript_container: $(\"#glowscript\").removeAttr(\"id\")}"
      ],
      "text/plain": [
       "<IPython.core.display.Javascript object>"
      ]
     },
     "metadata": {},
     "output_type": "display_data"
    }
   ],
   "source": [
    "scene=canvas(title=\"Electric field inside wire\")\n",
    "scene.background=color.white\n",
    "\n",
    "R=0.02 #radius of ring in m\n",
    "Q=1e-9 #charge of ring in C\n",
    "N=4 #number of unique pieces\n",
    "npoints = 5\n",
    "nrings = 11\n",
    "spacing = 0.005\n",
    "c = 1e-11 #change in charge from center ring\n",
    "\n",
    "#draw the objects\n",
    "zaxis=cylinder(pos=-2*R*myring.axis, radius=0.015*R, axis=4*R*myring.axis, color=color.black)\n",
    "rings = []\n",
    "charge = [Q-5*c,Q-4*c,Q-3*c,Q-2*c,Q-c,Q,Q+c,Q+2*c,Q+3*c,Q+4*c,Q+5*c]\n",
    "\n",
    "for i in range(nrings):\n",
    "    \n",
    "    loc = i - (nrings)//2\n",
    "    rings.append(ring(pos=vector(0,0,spacing*loc), radius=R, axis=vector(0,0,1), color=color.blue, thickness=0.02*R))\n",
    "\n",
    "points = []\n",
    "for i in range(npoints):\n",
    "    \n",
    "    xr = 0.01*sin(i*2*pi/npoints)\n",
    "    yr = 0.01*cos(i*2*pi/npoints)\n",
    "    \n",
    "    points.append(sphere(pos=vector(xr,yr,0), color=color.red, radius=5*zaxis.radius))\n",
    "    \n",
    "for j in range(npoints,2*npoints):\n",
    "    \n",
    "    xr2 = 0.005*sin(j*2*pi/npoints)\n",
    "    yr2 = 0.005*cos(j*2*pi/npoints)\n",
    "    \n",
    "    points.append(sphere(pos=vector(xr2,yr2,0), color=color.red, radius=5*zaxis.radius))\n",
    "\n",
    "# Find net field\n",
    "for a in points:\n",
    "    \n",
    "    for i in range(nrings):\n",
    "        b = rings[i] # look at one ring\n",
    "\n",
    "        dq = charge[i]/N #charge of a piece\n",
    "        dtheta = 2*pi/N #theta increment for our loop\n",
    "        theta=dtheta/2 #initial theta for first piece of loop\n",
    "        Ering = vector(0,0,0) #net electric field for one ring\n",
    "        oofpez=9e9 #1/(4pi epsilon_0) in N m^2/C^2\n",
    "\n",
    "        rpoint = a.pos\n",
    "\n",
    "        scale=1.2*mag(rpoint)/32000 #used to scale the arrows representing E-field\n",
    "\n",
    "        while theta<2*pi:\n",
    "            rpiece = R*vector(cos(theta),sin(theta),b.pos.z/R) #location of piece\n",
    "            r = rpoint-rpiece #vector from piece to point in space\n",
    "            rmag = mag(r) #magnitude of r\n",
    "            rhat = norm(r) #unit vector for r\n",
    "            dE = oofpez * dq / rmag / rmag * rhat #Electric field due to piece at rpoint\n",
    "            Enet = Enet + dE\n",
    "            particle=sphere(pos=rpiece, radius=a.radius, color=color.yellow) #draw a particle\n",
    "            theta=theta+dtheta\n",
    "\n",
    "    Evector=arrow(pos=rpoint, axis=scale*Enet, color=color.orange, shaftwidth=a.radius/2)"
   ]
  },
  {
   "cell_type": "code",
   "execution_count": null,
   "metadata": {
    "collapsed": true
   },
   "outputs": [],
   "source": []
  }
 ],
 "metadata": {
  "kernelspec": {
   "display_name": "Python 3",
   "language": "python",
   "name": "python3"
  },
  "language_info": {
   "codemirror_mode": {
    "name": "ipython",
    "version": 3
   },
   "file_extension": ".py",
   "mimetype": "text/x-python",
   "name": "python",
   "nbconvert_exporter": "python",
   "pygments_lexer": "ipython3",
   "version": "3.6.3"
  }
 },
 "nbformat": 4,
 "nbformat_minor": 1
}
